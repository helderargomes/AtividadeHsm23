{
  "nbformat": 4,
  "nbformat_minor": 0,
  "metadata": {
    "colab": {
      "provenance": [],
      "collapsed_sections": []
    },
    "kernelspec": {
      "name": "python3",
      "display_name": "Python 3"
    },
    "language_info": {
      "name": "python"
    }
  },
  "cells": [
    {
      "cell_type": "code",
      "execution_count": 64,
      "metadata": {
        "id": "h13u8Fl01ff7"
      },
      "outputs": [],
      "source": [
        "# Importando as bibliotecas. Como na atividade proposta não consegui acessar a database, vou utilizar a database imobiliaria da California.\n",
        "import pandas as pd\n",
        "from sklearn.datasets import fetch_california_housing\n",
        "from sklearn.model_selection import train_test_split\n",
        "from sklearn.neural_network import MLPRegressor\n",
        "import matplotlib.pyplot as plt"
      ]
    },
    {
      "cell_type": "code",
      "source": [
        "# Importando a database\n",
        "raw_db = fetch_california_housing()"
      ],
      "metadata": {
        "id": "AJt671c36PZJ"
      },
      "execution_count": 35,
      "outputs": []
    },
    {
      "cell_type": "code",
      "source": [
        "# Convertendo os dados da database para DataFrame\n",
        "x = pd.DataFrame(raw_db['data'], columns=['MedInc',\n",
        "  'HouseAge',\n",
        "  'AveRooms',\n",
        "  'AveBedrms',\n",
        "  'Population',\n",
        "  'AveOccup',\n",
        "  'Latitude',\n",
        "  'Longitude'])"
      ],
      "metadata": {
        "id": "nraQiC8A6bs5"
      },
      "execution_count": 50,
      "outputs": []
    },
    {
      "cell_type": "code",
      "source": [
        "# Verificando se a operação foi realizada.\n",
        "x.head()"
      ],
      "metadata": {
        "id": "CM0BSngWAu8M"
      },
      "execution_count": null,
      "outputs": []
    },
    {
      "cell_type": "code",
      "source": [
        "# Criando o DataFrame com o target\n",
        "y = pd.DataFrame(raw_db['target'], columns=['MedHouseVal'])"
      ],
      "metadata": {
        "id": "WjHDluI6BMG7"
      },
      "execution_count": 53,
      "outputs": []
    },
    {
      "cell_type": "code",
      "source": [
        "# Verificando se a operação foi realizada\n",
        "y.head()"
      ],
      "metadata": {
        "id": "pG6VzNhqCFGf"
      },
      "execution_count": null,
      "outputs": []
    },
    {
      "cell_type": "code",
      "source": [
        "# Realizando a divisão da base de dados, pelo método hold-out\n",
        "x_train, x_test, y_train, y_test = train_test_split(x,y, test_size=0.30, random_state=99)"
      ],
      "metadata": {
        "id": "t3KwljHOAhKs"
      },
      "execution_count": 59,
      "outputs": []
    },
    {
      "cell_type": "code",
      "source": [
        "# Instanciando o MLPRegressor\n",
        "mlp = MLPRegressor(hidden_layer_sizes=(50,50), learning_rate_init=0.01, activation=\"relu\", alpha=0.1)"
      ],
      "metadata": {
        "id": "RYVe0fDODbY2"
      },
      "execution_count": 61,
      "outputs": []
    },
    {
      "cell_type": "code",
      "source": [
        "# Realizando o treinamento\n",
        "mlp.fit(x_train, y_train)"
      ],
      "metadata": {
        "colab": {
          "base_uri": "https://localhost:8080/"
        },
        "id": "_aRyVthbDqWe",
        "outputId": "608ac0ed-2848-420d-d2f8-27b8227c336f"
      },
      "execution_count": 62,
      "outputs": [
        {
          "output_type": "stream",
          "name": "stderr",
          "text": [
            "/usr/local/lib/python3.7/dist-packages/sklearn/neural_network/_multilayer_perceptron.py:1599: DataConversionWarning: A column-vector y was passed when a 1d array was expected. Please change the shape of y to (n_samples, ), for example using ravel().\n",
            "  y = column_or_1d(y, warn=True)\n"
          ]
        },
        {
          "output_type": "execute_result",
          "data": {
            "text/plain": [
              "MLPRegressor(alpha=0.1, hidden_layer_sizes=(50, 50), learning_rate_init=0.01)"
            ]
          },
          "metadata": {},
          "execution_count": 62
        }
      ]
    },
    {
      "cell_type": "code",
      "source": [
        "# Realizando o teste\n",
        "pred_mlp = mlp.predict(x_test)"
      ],
      "metadata": {
        "id": "63qBHkn4D-Gh"
      },
      "execution_count": 63,
      "outputs": []
    },
    {
      "cell_type": "code",
      "source": [
        "# Realizando a comparação gráfica entre os valores preditos pelo algoritmo e os valores do conjunto de teste para a classe\n",
        "plt.plot(y_test, color=\"Red\")\n",
        "plt.plot(pred_mlp, color=\"blue\")\n",
        "plt.show()"
      ],
      "metadata": {
        "id": "mfimDAjhEGlF"
      },
      "execution_count": null,
      "outputs": []
    },
    {
      "cell_type": "code",
      "source": [
        "# Avaliação do desempenho do regressor durante o treinamento\n",
        "r2_train = mlp.score(x_train, y_train)\n",
        "r2_test = mlp.score(x_test, y_test)\n",
        "print('R2 do mlp no set de treino: %.2f'%r2_train)\n",
        "print('R2 do mlp no set de teste: %.2f'%r2_test)"
      ],
      "metadata": {
        "colab": {
          "base_uri": "https://localhost:8080/"
        },
        "id": "Fs2sXCKtEvq7",
        "outputId": "79766f8c-c9e4-4262-c845-dabb79029851"
      },
      "execution_count": 67,
      "outputs": [
        {
          "output_type": "stream",
          "name": "stdout",
          "text": [
            "R2 do mlp no set de treino: 0.48\n",
            "R2 do mlp no set de teste: 0.48\n"
          ]
        }
      ]
    },
    {
      "cell_type": "code",
      "source": [
        "# Repetindo o teste, ajustando algumas configurações do mlp. Será considerada taxa de aprendizado de 0.05.\n",
        "mlp = MLPRegressor(hidden_layer_sizes=(50,50), learning_rate_init=0.05, activation=\"relu\", alpha=0.1)"
      ],
      "metadata": {
        "id": "2T4wo_pQFZRS"
      },
      "execution_count": 68,
      "outputs": []
    },
    {
      "cell_type": "code",
      "source": [
        "# Realizando o treinamento\n",
        "mlp.fit(x_train, y_train)"
      ],
      "metadata": {
        "colab": {
          "base_uri": "https://localhost:8080/"
        },
        "id": "VOp6DxedFoew",
        "outputId": "3bb274e4-c201-483f-e46f-9e47a6fc9014"
      },
      "execution_count": 69,
      "outputs": [
        {
          "output_type": "stream",
          "name": "stderr",
          "text": [
            "/usr/local/lib/python3.7/dist-packages/sklearn/neural_network/_multilayer_perceptron.py:1599: DataConversionWarning: A column-vector y was passed when a 1d array was expected. Please change the shape of y to (n_samples, ), for example using ravel().\n",
            "  y = column_or_1d(y, warn=True)\n"
          ]
        },
        {
          "output_type": "execute_result",
          "data": {
            "text/plain": [
              "MLPRegressor(alpha=0.1, hidden_layer_sizes=(50, 50), learning_rate_init=0.05)"
            ]
          },
          "metadata": {},
          "execution_count": 69
        }
      ]
    },
    {
      "cell_type": "code",
      "source": [
        "# Realizando o teste\n",
        "pred_mlp = mlp.predict(x_test)"
      ],
      "metadata": {
        "id": "SQjenhmzFrX9"
      },
      "execution_count": 70,
      "outputs": []
    },
    {
      "cell_type": "code",
      "source": [
        "# Realizando a comparação gráfica entre os valores preditos pelo algoritmo e os valores do conjunto de teste para a classe\n",
        "plt.plot(y_test, color=\"Red\")\n",
        "plt.plot(pred_mlp, color=\"blue\")\n",
        "plt.show()"
      ],
      "metadata": {
        "id": "Wy-Cd-JNFuTD"
      },
      "execution_count": null,
      "outputs": []
    },
    {
      "cell_type": "code",
      "source": [
        "# Avaliação do desempenho do regressor durante o treinamento. Observa-se que o aumento da taxa de aprendizagem para 0.05 permitiu uma melhora no valor de R2. Vou realizar um novo aumento desta taxa para 0.1.\n",
        "r2_train = mlp.score(x_train, y_train)\n",
        "r2_test = mlp.score(x_test, y_test)\n",
        "print('R2 do mlp no set de treino: %.2f'%r2_train)\n",
        "print('R2 do mlp no set de teste: %.2f'%r2_test)"
      ],
      "metadata": {
        "colab": {
          "base_uri": "https://localhost:8080/"
        },
        "id": "7m9bXjfyF0mO",
        "outputId": "4884f49b-30fc-40b6-b8b1-49d141412603"
      },
      "execution_count": 72,
      "outputs": [
        {
          "output_type": "stream",
          "name": "stdout",
          "text": [
            "R2 do mlp no set de treino: 0.58\n",
            "R2 do mlp no set de teste: 0.57\n"
          ]
        }
      ]
    },
    {
      "cell_type": "code",
      "source": [
        "# Repetindo o teste, ajustando algumas configurações do mlp. Será considerada taxa de aprendizado de 0.05.\n",
        "mlp = MLPRegressor(hidden_layer_sizes=(50,50), learning_rate_init=0.1, activation=\"relu\", alpha=0.1)"
      ],
      "metadata": {
        "id": "eAQfqKILGDVx"
      },
      "execution_count": 73,
      "outputs": []
    },
    {
      "cell_type": "code",
      "source": [
        "# Realizando o treinamento\n",
        "mlp.fit(x_train, y_train)"
      ],
      "metadata": {
        "colab": {
          "base_uri": "https://localhost:8080/"
        },
        "id": "cmq16GUbGIqg",
        "outputId": "cca70a91-7f82-4e79-b83e-4eec5ffdeae3"
      },
      "execution_count": 74,
      "outputs": [
        {
          "output_type": "stream",
          "name": "stderr",
          "text": [
            "/usr/local/lib/python3.7/dist-packages/sklearn/neural_network/_multilayer_perceptron.py:1599: DataConversionWarning: A column-vector y was passed when a 1d array was expected. Please change the shape of y to (n_samples, ), for example using ravel().\n",
            "  y = column_or_1d(y, warn=True)\n"
          ]
        },
        {
          "output_type": "execute_result",
          "data": {
            "text/plain": [
              "MLPRegressor(alpha=0.1, hidden_layer_sizes=(50, 50), learning_rate_init=0.1)"
            ]
          },
          "metadata": {},
          "execution_count": 74
        }
      ]
    },
    {
      "cell_type": "code",
      "source": [
        "# Realizando o teste\n",
        "pred_mlp = mlp.predict(x_test)"
      ],
      "metadata": {
        "id": "JKoN4QLgGJd3"
      },
      "execution_count": 75,
      "outputs": []
    },
    {
      "cell_type": "code",
      "source": [
        "# Realizando a comparação gráfica entre os valores preditos pelo algoritmo e os valores do conjunto de teste para a classe\n",
        "plt.plot(y_test, color=\"Red\")\n",
        "plt.plot(pred_mlp, color=\"blue\")\n",
        "plt.show()"
      ],
      "metadata": {
        "id": "aw35ECbOGPd7"
      },
      "execution_count": null,
      "outputs": []
    },
    {
      "cell_type": "code",
      "source": [
        "# Avaliação do desempenho do regressor durante o treinamento. Os valores de R2 pioraram consideravelmente. Vou fazer um novo teste com o valor de 0.075.\n",
        "r2_train = mlp.score(x_train, y_train)\n",
        "r2_test = mlp.score(x_test, y_test)\n",
        "print('R2 do mlp no set de treino: %.2f'%r2_train)\n",
        "print('R2 do mlp no set de teste: %.2f'%r2_test)"
      ],
      "metadata": {
        "id": "pxGILkqaGU93"
      },
      "execution_count": null,
      "outputs": []
    },
    {
      "cell_type": "code",
      "source": [
        "# Repetindo o teste, ajustando algumas configurações do mlp. Será considerada taxa de aprendizado de 0.075.\n",
        "mlp = MLPRegressor(hidden_layer_sizes=(50,50), learning_rate_init=0.075, activation=\"relu\", alpha=0.1)"
      ],
      "metadata": {
        "id": "n6TpPPJgGkTr"
      },
      "execution_count": 78,
      "outputs": []
    },
    {
      "cell_type": "code",
      "source": [
        "# Realizando o treinamento\n",
        "mlp.fit(x_train, y_train)"
      ],
      "metadata": {
        "colab": {
          "base_uri": "https://localhost:8080/"
        },
        "id": "CA9mKvsmGnWH",
        "outputId": "72c835ce-0aa0-4f2e-c86e-a4b753a3e816"
      },
      "execution_count": 79,
      "outputs": [
        {
          "output_type": "stream",
          "name": "stderr",
          "text": [
            "/usr/local/lib/python3.7/dist-packages/sklearn/neural_network/_multilayer_perceptron.py:1599: DataConversionWarning: A column-vector y was passed when a 1d array was expected. Please change the shape of y to (n_samples, ), for example using ravel().\n",
            "  y = column_or_1d(y, warn=True)\n",
            "/usr/local/lib/python3.7/dist-packages/sklearn/neural_network/_multilayer_perceptron.py:696: ConvergenceWarning: Stochastic Optimizer: Maximum iterations (200) reached and the optimization hasn't converged yet.\n",
            "  ConvergenceWarning,\n"
          ]
        },
        {
          "output_type": "execute_result",
          "data": {
            "text/plain": [
              "MLPRegressor(alpha=0.1, hidden_layer_sizes=(50, 50), learning_rate_init=0.075)"
            ]
          },
          "metadata": {},
          "execution_count": 79
        }
      ]
    },
    {
      "cell_type": "code",
      "source": [
        "# Realizando o teste\n",
        "pred_mlp = mlp.predict(x_test)"
      ],
      "metadata": {
        "id": "zSOpbrRhGrlp"
      },
      "execution_count": 80,
      "outputs": []
    },
    {
      "cell_type": "code",
      "source": [
        "# Realizando a comparação gráfica entre os valores preditos pelo algoritmo e os valores do conjunto de teste para a classe\n",
        "plt.plot(y_test, color=\"Red\")\n",
        "plt.plot(pred_mlp, color=\"blue\")\n",
        "plt.show()"
      ],
      "metadata": {
        "id": "TFi1BVBoG4SI"
      },
      "execution_count": null,
      "outputs": []
    },
    {
      "cell_type": "code",
      "source": [
        "# Avaliação do desempenho do regressor durante o treinamento. Os valores ainda ficaram ruins. Vou repetir com o valor de 0.05, para ver se o resultado se confirma.\n",
        "r2_train = mlp.score(x_train, y_train)\n",
        "r2_test = mlp.score(x_test, y_test)\n",
        "print('R2 do mlp no set de treino: %.2f'%r2_train)\n",
        "print('R2 do mlp no set de teste: %.2f'%r2_test)"
      ],
      "metadata": {
        "colab": {
          "base_uri": "https://localhost:8080/"
        },
        "id": "b0LULj8zG74t",
        "outputId": "3fa54aa6-b58c-44e9-cbc9-c6f004aa6b63"
      },
      "execution_count": 82,
      "outputs": [
        {
          "output_type": "stream",
          "name": "stdout",
          "text": [
            "R2 do mlp no set de treino: -0.00\n",
            "R2 do mlp no set de teste: -0.01\n"
          ]
        }
      ]
    },
    {
      "cell_type": "code",
      "source": [
        "mlp = MLPRegressor(hidden_layer_sizes=(50,50), learning_rate_init=0.05, activation=\"relu\", alpha=0.1)"
      ],
      "metadata": {
        "id": "uQhzo2jaHFFX"
      },
      "execution_count": 83,
      "outputs": []
    },
    {
      "cell_type": "code",
      "source": [
        "# Realizando o treinamento\n",
        "mlp.fit(x_train, y_train)"
      ],
      "metadata": {
        "colab": {
          "base_uri": "https://localhost:8080/"
        },
        "id": "Xe4ERLA0HP_z",
        "outputId": "2073f1b6-aa7f-4f0d-9a15-809f4b29b67a"
      },
      "execution_count": 84,
      "outputs": [
        {
          "output_type": "stream",
          "name": "stderr",
          "text": [
            "/usr/local/lib/python3.7/dist-packages/sklearn/neural_network/_multilayer_perceptron.py:1599: DataConversionWarning: A column-vector y was passed when a 1d array was expected. Please change the shape of y to (n_samples, ), for example using ravel().\n",
            "  y = column_or_1d(y, warn=True)\n"
          ]
        },
        {
          "output_type": "execute_result",
          "data": {
            "text/plain": [
              "MLPRegressor(alpha=0.1, hidden_layer_sizes=(50, 50), learning_rate_init=0.05)"
            ]
          },
          "metadata": {},
          "execution_count": 84
        }
      ]
    },
    {
      "cell_type": "code",
      "source": [
        "# Realizando o teste\n",
        "pred_mlp = mlp.predict(x_test)"
      ],
      "metadata": {
        "id": "-6YxjYLkHTwW"
      },
      "execution_count": 85,
      "outputs": []
    },
    {
      "cell_type": "code",
      "source": [
        "# Realizando a comparação gráfica entre os valores preditos pelo algoritmo e os valores do conjunto de teste para a classe\n",
        "plt.plot(y_test, color=\"Red\")\n",
        "plt.plot(pred_mlp, color=\"blue\")\n",
        "plt.show()"
      ],
      "metadata": {
        "colab": {
          "base_uri": "https://localhost:8080/",
          "height": 265
        },
        "id": "LjYcAwQ3HfqB",
        "outputId": "282ef8a8-724d-419e-a334-bea8820b8eb1"
      },
      "execution_count": 86,
      "outputs": [
        {
          "output_type": "display_data",
          "data": {
            "text/plain": [
              "<Figure size 432x288 with 1 Axes>"
            ],
            "image/png": "[encoded data removed]"
          },
          "metadata": {
            "needs_background": "light"
          }
        }
      ]
    },
    {
      "cell_type": "code",
      "source": [
        "# Avaliação do desempenho do regressor durante o treinamento. Os valores pioraram, mesmo repetindo as mesmas condições.\n",
        "r2_train = mlp.score(x_train, y_train)\n",
        "r2_test = mlp.score(x_test, y_test)\n",
        "print('R2 do mlp no set de treino: %.2f'%r2_train)\n",
        "print('R2 do mlp no set de teste: %.2f'%r2_test)"
      ],
      "metadata": {
        "id": "S7xHabR2HmBr"
      },
      "execution_count": null,
      "outputs": []
    }
  ]
}